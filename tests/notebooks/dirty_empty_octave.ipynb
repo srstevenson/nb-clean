{
 "cells": [
  {
   "cell_type": "code",
   "execution_count": null,
   "id": "10cfba24-bab5-47a0-9ab8-5d1fc01f1f58",
   "metadata": {},
   "outputs": [],
   "source": []
  }
 ],
 "metadata": {
  "kernelspec": {
   "display_name": "Octave",
   "language": "octave",
   "name": "octave"
  }
 },
 "nbformat": 4,
 "nbformat_minor": 5
}
